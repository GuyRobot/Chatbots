{
 "cells": [
  {
   "cell_type": "code",
   "execution_count": 2,
   "metadata": {},
   "outputs": [
    {
     "data": {
      "text/plain": "'2.2.3'"
     },
     "execution_count": 2,
     "metadata": {},
     "output_type": "execute_result"
    }
   ],
   "source": [
    "import spacy\n",
    "spacy.__version__\n"
   ]
  },
  {
   "cell_type": "code",
   "execution_count": 4,
   "metadata": {},
   "outputs": [
    {
     "name": "stdout",
     "output_type": "stream",
     "text": [
      "I PRON\n",
      "am AUX\n",
      "learning VERB\n",
      "how ADV\n",
      "to PART\n",
      "build VERB\n",
      "chatbots NOUN\n",
      "Another Example-----------------------------------------\n",
      "I PRON\n",
      "will VERB\n",
      "give VERB\n",
      "you PRON\n",
      "time NOUN\n",
      "for ADP\n",
      "answer VERB\n",
      "my DET\n",
      "questions NOUN\n",
      ". PUNCT\n",
      "And another Example---------------------------------------------------\n",
      "Google Google PROPN NNP compound Xxxxx True False\n",
      "release release NOUN NN ROOT xxxx True False\n",
      "\" \" PUNCT `` punct \" False False\n",
      "Move Move PROPN NNP compound Xxxx True True\n",
      "Mirror Mirror PROPN NNP appos Xxxxx True False\n",
      "\" \" PUNCT '' punct \" False False\n",
      "Ai Ai PROPN NNP compound Xx True False\n",
      "experiment experiment NOUN NN ROOT xxxx True False\n",
      "that that DET WDT nsubj xxxx True True\n",
      "matches match VERB VBZ relcl xxxx True False\n",
      "your -PRON- DET PRP$ poss xxxx True True\n",
      "pose pose NOUN NN dobj xxxx True False\n",
      "from from ADP IN prep xxxx True True\n",
      "80,000 80,000 NUM CD nummod dd,ddd False False\n",
      "images image NOUN NNS pobj xxxx True False\n"
     ]
    }
   ],
   "source": [
    "import  spacy\n",
    "\"\"\"\n",
    "Lemma: root form of word being processed\n",
    "Pos: Part of speech of the word\n",
    "Tag: Express the part of speech\n",
    "Dep: Syntactic Dependency\n",
    "Shape: Shape of word\n",
    "Alpha: Is Alpha character\n",
    "Stop: Is word a stop word or part of stop list\n",
    "\"\"\"\n",
    "\n",
    "nlp = spacy.load('en')\n",
    "doc = nlp(u'I am learning how to build chatbots')\n",
    "\n",
    "for token in doc:\n",
    "    print(token.text, token.pos_)\n",
    "\n",
    "print(\"Another Example-----------------------------------------\")\n",
    "\n",
    "doc = nlp(u'I will give you time for answer my questions.')\n",
    "for token in doc:\n",
    "    print(token.text, token.pos_)\n",
    "\n",
    "\n",
    "print(\"And another Example---------------------------------------------------\")\n",
    "doc = nlp(u'Google release \"Move Mirror\" Ai experiment that matches your pose from 80,000 images')\n",
    "\n",
    "for token in doc:\n",
    "    print(token.text, token.lemma_, token.pos_, token.tag_,\n",
    "          token.dep_, token.shape_, token.is_alpha, token.is_stop)"
   ]
  }
 ],
 "metadata": {
  "kernelspec": {
   "display_name": "Python 3",
   "language": "python",
   "name": "python3"
  },
  "language_info": {
   "codemirror_mode": {
    "name": "ipython",
    "version": 3
   },
   "file_extension": ".py",
   "mimetype": "text/x-python",
   "name": "python",
   "nbconvert_exporter": "python",
   "pygments_lexer": "ipython3",
   "version": "3.6.6"
  }
 },
 "nbformat": 4,
 "nbformat_minor": 4
}